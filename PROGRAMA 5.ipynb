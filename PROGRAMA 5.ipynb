{
  "cells": [
    {
      "cell_type": "code",
      "source": [
        "#1. PARA CREA EL DICCIONARIO DEBES INICIAR NOMBRANDO TU DICCIONARIO (d1) Y A CONTINUACIÓN...\n",
        "#AGREGAR UN IGUAL Y ABRIR UN CORCHETE {\n",
        "#2. UNA VEZ REALIZADO, PARA PODER ALMACENAR ELEMENTOS DEBERÁS ESCRIBIR LAS KEYS USANDO...\n",
        "#COMILLAS SIMPLES O DOBLES Y LAS UNIRÁS CON SUS RESPECTIVOS VALORES CON \":\", EN EL...\n",
        "#CASO DE LOS VALORES, DEBERÁN ESTAR ENTRE COMILLAS SI SU VALOR ES CARACTER, EN CAMBIO SI EL...\n",
        "#VALOR ES UN NÚMERO TENDRÁS QUE ESCRIBIRLO SIN COMILLAS. FINALMENTE, NO OLVIDES USAR UNA...\n",
        "#LÍNEA DE CÓDICO PARACADA PAR DE KEY:VALOR Y AL FINAL DE ESTAS USAR UNA COMA.\n",
        "#3. UNA VEZ HECHO TODO LO ANTERIOR, EN LA ÚLTIMA LÍNEA NO OLVIDES CERRAR EL CORCHETE }.\n",
        "d1 = {\n",
        "    \"Nombre\": \"Hizaak\",\n",
        "    \"Matrícula\": 241690433-8,\n",
        "    \"Edad\": 16,\n",
        "    \"Peso\": 52,\n",
        "    \"Teléfono\": 911,\n",
        "    \"Domicilio\": \"Calle تيبيك رهيب num #977, Colonia علم البيانات,Dubái, EAU\",\n",
        "    \"Carrera\": \"Arquitectura\",\n",
        "    \"Equipo favorito\": \"Querétaro y Bayern München\"\n",
        "}\n",
        "#4. PARA IMPRIMIR LOS VALORES DEL DICCIONARIO USARÁS LA SIGUIENTE INSTRUCCIÓN:\n",
        "print(d1)\n",
        "#5. PARA MODIFICAR UN ELEMENTO DE TU DICCIONARIO, USA LA SIGUIENTE INSTRUCCIÓN Y DENTRO...\n",
        "#DE LOS CORCHETES [] PONDRÁS EL NOMBRE DEL KEY AL QUE QUIERES CAMBIAR SU VALOR.\n",
        "#6. EN OTRA LÍNEA, ESCRIBE LA INSTRUCCIÓN PARA MODIFICAR EL VALOR DEL KEY.\n",
        "print(d1['Nombre'])\n",
        "d1['Nombre'] = \"Isaac\"\n",
        "#7. POR ÚLTIMO, PARA ITERAR LOS DATOS DE TU DICCIONARIO USARÁS LA SIGUIENTE INSTRUCCIÓN.\n",
        "for x in d1:\n",
        "    print(d1[x])\n"
      ],
      "metadata": {
        "id": "lQ5G8tUwWz4E",
        "outputId": "d01341ae-d82e-438a-b3a7-1830999d1595",
        "colab": {
          "base_uri": "https://localhost:8080/"
        }
      },
      "execution_count": 36,
      "outputs": [
        {
          "output_type": "stream",
          "name": "stdout",
          "text": [
            "{'Nombre': 'Hizaak', 'Matrícula': 241690425, 'Edad': 16, 'Peso': 52, 'Teléfono': 911, 'Domicilio': 'Calle تيبيك رهيب num #977, Colonia علم البيانات,Dubái, EAU', 'Carrera': 'Arquitectura', 'Equipo favorito': 'Querétaro y Bayern München'}\n",
            "Hizaak\n",
            "Isaac\n",
            "241690425\n",
            "16\n",
            "52\n",
            "911\n",
            "Calle تيبيك رهيب num #977, Colonia علم البيانات,Dubái, EAU\n",
            "Arquitectura\n",
            "Querétaro y Bayern München\n"
          ]
        }
      ]
    }
  ],
  "metadata": {
    "colab": {
      "name": "Te damos la bienvenida a Colaboratory",
      "toc_visible": true,
      "provenance": []
    },
    "kernelspec": {
      "display_name": "Python 3",
      "name": "python3"
    }
  },
  "nbformat": 4,
  "nbformat_minor": 0
}