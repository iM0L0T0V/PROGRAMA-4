{
  "cells": [
    {
      "cell_type": "code",
      "source": [
        "temp= [80, 72, 95, 82, 79, 72, 85]\n",
        "def fac (temp):\n",
        "  tempc= []\n",
        "  for farenheit in temp:\n",
        "    celsius = (farenheit-32)/1.8\n",
        "    tempc.append(celsius)\n",
        "  return tempc\n",
        "\n",
        "def resultado (tempc):\n",
        "  for celsius in tempc:\n",
        "    print(celsius)\n",
        "\n",
        "tempc = fac(temp)\n",
        "resultado(tempc)"
      ],
      "metadata": {
        "id": "CU1Oz_pne30M",
        "outputId": "781d4f26-7aa8-43a3-8cea-8d3f002cc172",
        "colab": {
          "base_uri": "https://localhost:8080/"
        }
      },
      "execution_count": 44,
      "outputs": [
        {
          "output_type": "stream",
          "name": "stdout",
          "text": [
            "26.666666666666664\n",
            "22.22222222222222\n",
            "35.0\n",
            "27.77777777777778\n",
            "26.11111111111111\n",
            "22.22222222222222\n",
            "29.444444444444443\n"
          ]
        }
      ]
    }
  ],
  "metadata": {
    "colab": {
      "name": "Te damos la bienvenida a Colaboratory",
      "toc_visible": true,
      "provenance": []
    },
    "kernelspec": {
      "display_name": "Python 3",
      "name": "python3"
    }
  },
  "nbformat": 4,
  "nbformat_minor": 0
}