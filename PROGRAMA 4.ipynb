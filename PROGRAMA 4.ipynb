{
  "cells": [
    {
      "cell_type": "code",
      "source": [
        "def leerdatos():\n",
        "  edad = []\n",
        "  for i in range(10):\n",
        "    edad.append(int(input(\"Ingresa las edades:\")))\n",
        "  return edad\n",
        "\n",
        "def mayores_menores(edad):\n",
        "  may_edad = []\n",
        "  men_edad = []\n",
        "  for i in range(len(edad)):\n",
        "    if (edad[i] >= 18):\n",
        "      may_edad.append(edad[i])\n",
        "    else:\n",
        "      men_edad.append(edad[i])\n",
        "  return may_edad, men_edad\n",
        "\n",
        "def resultado(may_edad, men_edad):\n",
        "  print(f\"El número de personas mayores de edad es de: {len(may_edad)}\")\n",
        "  print(f\"El número de personas menores de edad es de: {len(men_edad)}\")\n",
        "\n",
        "edad = leerdatos()\n",
        "may_edad, men_edad = mayores_menores(edad)\n",
        "resultado(may_edad, men_edad)"
      ],
      "metadata": {
        "id": "F4RSMGV3vB1K"
      },
      "execution_count": null,
      "outputs": []
    }
  ],
  "metadata": {
    "colab": {
      "name": "Te damos la bienvenida a Colab",
      "toc_visible": true,
      "provenance": []
    },
    "kernelspec": {
      "display_name": "Python 3",
      "name": "python3"
    }
  },
  "nbformat": 4,
  "nbformat_minor": 0
}